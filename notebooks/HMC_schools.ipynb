{
 "cells": [
  {
   "cell_type": "markdown",
   "metadata": {},
   "source": [
    "# 8 schools data"
   ]
  },
  {
   "cell_type": "code",
   "execution_count": 12,
   "metadata": {},
   "outputs": [],
   "source": [
    "from numpyro.infer import Predictive\n",
    "from numpyro.infer.reparam import TransformReparam, LocScaleReparam\n",
    "from jax import random\n",
    "from numpyro.infer import MCMC, HMC\n",
    "import numpyro.distributions as dist\n",
    "import numpyro\n",
    "import numpy as np\n",
    "import matplotlib.pyplot as plt"
   ]
  },
  {
   "cell_type": "markdown",
   "metadata": {},
   "source": [
    "Let us explore NumPyro using a simple example. We will use the eight schools example from Gelman et al., Bayesian Data Analysis: Sec. 5.5, 2003, which studies the effect of coaching on SAT performance in eight schools.\n",
    "\n",
    "The data is given by:"
   ]
  },
  {
   "cell_type": "code",
   "execution_count": 13,
   "metadata": {},
   "outputs": [],
   "source": [
    "J = 8\n",
    "y = np.array([28.0, 8.0, -3.0, 7.0, -1.0, 1.0, 18.0, 12.0])\n",
    "sigma = np.array([15.0, 10.0, 16.0, 11.0, 9.0, 11.0, 10.0, 18.0])"
   ]
  },
  {
   "cell_type": "markdown",
   "metadata": {},
   "source": [
    "where `y` are the treatment effects and `sigma` the standard error. \n",
    "\n",
    "We build a hierarchical model for the study where we assume that the group-level parameters `theta` for each school are sampled from a Normal distribution with unknown mean `mu` and standard deviation `tau`, while the observed data are in turn generated from a Normal distribution with mean and standard deviation given by `theta` (true effect) and `sigma`, respectively. \n",
    "This allows us to estimate the population-level parameters `mu` and `tau` by pooling from all the observations, while still allowing for individual variation amongst the schools using the group-level `theta` parameters.\n",
    "This is written in `numpyro` using:"
   ]
  },
  {
   "cell_type": "code",
   "execution_count": 3,
   "metadata": {},
   "outputs": [],
   "source": [
    "def eight_schools(J, sigma, y=None):\n",
    "    mu = numpyro.sample('mu', dist.Normal(0, 5))\n",
    "    tau = numpyro.sample('tau', dist.HalfCauchy(5))\n",
    "    with numpyro.plate('J', J):\n",
    "        theta = numpyro.sample('theta', dist.Normal(mu, tau))\n",
    "        numpyro.sample('obs', dist.Normal(theta, sigma), obs=y)"
   ]
  },
  {
   "cell_type": "markdown",
   "metadata": {},
   "source": [
    "Let us infer the values of the unknown parameters in our model by running MCMC using the No-U-Turn Sampler (NUTS). Note the usage of the extra_fields argument in MCMC.run. By default, we only collect samples from the target (posterior) distribution when we run inference using MCMC. However, collecting additional fields like potential energy or the acceptance probability of a sample can be easily achieved by using the extra_fields argument. For a list of possible fields that can be collected, see the `HMCState` object. In this example, we will additionally collect the `potential_energy` for each sample."
   ]
  },
  {
   "cell_type": "code",
   "execution_count": 4,
   "metadata": {},
   "outputs": [
    {
     "name": "stderr",
     "output_type": "stream",
     "text": [
      "sample: 100%|██████████| 1500/1500 [00:02<00:00, 663.56it/s, 38 steps of size 1.65e-01. acc. prob=0.79]\n"
     ]
    },
    {
     "name": "stdout",
     "output_type": "stream",
     "text": [
      "\n",
      "                mean       std    median      5.0%     95.0%     n_eff     r_hat\n",
      "        mu      4.31      3.13      4.22     -0.89      8.82   1495.10      1.00\n",
      "       tau      4.50      3.54      3.54      0.97      8.88     79.52      1.00\n",
      "  theta[0]      6.65      5.72      6.04     -2.75     15.09    494.97      1.00\n",
      "  theta[1]      4.80      4.90      4.71     -4.33     11.91    724.20      1.00\n",
      "  theta[2]      3.52      5.22      3.90     -4.23     12.86    531.26      1.00\n",
      "  theta[3]      4.72      4.81      4.95     -2.78     12.60    666.05      1.00\n",
      "  theta[4]      3.45      4.64      3.62     -4.34     10.90    411.74      1.00\n",
      "  theta[5]      3.63      4.96      3.79     -3.99     11.52    595.29      1.00\n",
      "  theta[6]      6.77      5.20      6.49     -2.13     14.62    354.23      1.00\n",
      "  theta[7]      4.95      5.71      4.82     -4.41     13.42    634.33      1.00\n",
      "\n",
      "Number of divergences: 14\n"
     ]
    }
   ],
   "source": [
    "kernel = HMC(eight_schools)\n",
    "mcmc = MCMC(kernel, num_warmup=500, num_samples=1000)\n",
    "rng_key = random.PRNGKey(0)\n",
    "mcmc.run(rng_key, J, sigma, y=y, extra_fields=('potential_energy',))\n",
    "mcmc.print_summary()"
   ]
  },
  {
   "cell_type": "code",
   "execution_count": 5,
   "metadata": {},
   "outputs": [
    {
     "name": "stdout",
     "output_type": "stream",
     "text": [
      "Expected log joint density: -55.87\n"
     ]
    }
   ],
   "source": [
    "pe = mcmc.get_extra_fields()['potential_energy']\n",
    "print('Expected log joint density: {:.2f}'.format(np.mean(-pe)))"
   ]
  },
  {
   "cell_type": "code",
   "execution_count": 15,
   "metadata": {},
   "outputs": [
    {
     "data": {
      "text/plain": [
       "[<matplotlib.lines.Line2D at 0x7f6910050d90>]"
      ]
     },
     "execution_count": 15,
     "metadata": {},
     "output_type": "execute_result"
    },
    {
     "data": {
      "image/png": "[encoded data removed]",
      "text/plain": [
       "<Figure size 432x288 with 1 Axes>"
      ]
     },
     "metadata": {
      "needs_background": "light"
     },
     "output_type": "display_data"
    }
   ],
   "source": [
    "samples = mcmc.get_samples()\n",
    "\n",
    "plt.plot(samples['mu'])"
   ]
  },
  {
   "cell_type": "code",
   "execution_count": null,
   "metadata": {},
   "outputs": [],
   "source": []
  },
  {
   "cell_type": "markdown",
   "metadata": {},
   "source": [
    "The values above 1 for the split Gelman Rubin diagnostic `r_hat` indicates that the chain has not fully converged. The low value for the effective sample size `n_eff`, particularly for `tau`, and the number of divergent transitions looks problematic. \n",
    "Fortunately, this is a common pathology that can be rectified by using a non-centered paramaterization for `tau` in our model. This is straightforward to do in `numpyro` by using a `TransformedDistribution` instance together with a \"reparameterization effect handler\". Let us rewrite the same model but instead of sampling `theta` from a Normal(`mu`, `tau`), we will instead sample it from a base Normal(0, 1) distribution that is transformed using an `AffineTransform`. \n",
    "Note that by doing so, `nunmpyro` runs HMC by generating samples `theta_base` for the base Normal(0, 1) distribution instead. We see that the resulting chain does not suffer from the same pathology — the Gelman Rubin diagnostic is 1 for all the parameters and the effective sample size looks quite good!"
   ]
  },
  {
   "cell_type": "code",
   "execution_count": 6,
   "metadata": {},
   "outputs": [
    {
     "name": "stderr",
     "output_type": "stream",
     "text": [
      "  0%|          | 0/1500 [00:00<?, ?it/s]"
     ]
    },
    {
     "name": "stdout",
     "output_type": "stream",
     "text": [
      "rng_key.ndim == 1, setting init_state to hmc_init_fn()\n",
      "hmc_init_fn in HMC.init()\n",
      "Init kernel in hmc()\n",
      "initialized HMC:\n",
      "hmc_state.z={'mu': DeviceArray(1.5965929, dtype=float32), 'tau': DeviceArray(1.9340096, dtype=float32), 'theta_base': DeviceArray([-1.3776793 ,  0.82720995,  0.3365407 ,  1.180201  ,\n",
      "              1.919496  , -1.1188812 , -0.68791294,  1.6057692 ],            dtype=float32)}\n"
     ]
    },
    {
     "name": "stderr",
     "output_type": "stream",
     "text": [
      "sample: 100%|██████████| 1500/1500 [00:04<00:00, 340.20it/s, 7 steps of size 4.40e-01. acc. prob=0.92]\n"
     ]
    },
    {
     "name": "stdout",
     "output_type": "stream",
     "text": [
      "\n",
      "                   mean       std    median      5.0%     95.0%     n_eff     r_hat\n",
      "           mu      4.23      3.42      4.32     -1.37     10.01    912.02      1.00\n",
      "          tau      3.81      3.19      3.05      0.02      8.03    534.29      1.00\n",
      "     theta[0]      6.40      5.52      5.77     -3.17     14.56   1015.72      1.00\n",
      "     theta[1]      4.95      4.88      4.99     -3.65     12.21   1351.95      1.00\n",
      "     theta[2]      3.61      5.32      3.95     -4.66     12.17    920.17      1.00\n",
      "     theta[3]      4.67      4.89      4.47     -2.51     12.59   1353.97      1.00\n",
      "     theta[4]      3.38      4.75      3.59     -4.92     10.71    932.72      1.00\n",
      "     theta[5]      3.82      4.73      3.83     -4.00     11.11   1224.49      1.00\n",
      "     theta[6]      6.37      5.16      5.76     -1.28     14.48   1005.49      1.00\n",
      "     theta[7]      4.83      5.55      4.81     -3.61     12.91   1223.88      1.00\n",
      "theta_base[0]      0.41      0.96      0.42     -1.14      1.94    938.63      1.00\n",
      "theta_base[1]      0.17      0.93      0.20     -1.38      1.68   1122.83      1.00\n",
      "theta_base[2]     -0.09      0.94     -0.07     -1.66      1.39   1170.35      1.00\n",
      "theta_base[3]      0.09      0.90      0.07     -1.31      1.72   1300.42      1.00\n",
      "theta_base[4]     -0.15      0.94     -0.18     -1.52      1.54    889.93      1.00\n",
      "theta_base[5]     -0.10      0.94     -0.18     -1.50      1.59   1072.25      1.00\n",
      "theta_base[6]      0.38      0.96      0.40     -1.40      1.75    671.76      1.00\n",
      "theta_base[7]      0.10      1.03      0.11     -1.35      1.96   1224.80      1.00\n",
      "\n",
      "Number of divergences: 0\n",
      "Expected log joint density: -46.12\n"
     ]
    }
   ],
   "source": [
    "def eight_schools_noncentered(J, sigma, y=None):\n",
    "    mu = numpyro.sample('mu', dist.Normal(0, 5))\n",
    "    tau = numpyro.sample('tau', dist.HalfCauchy(5))\n",
    "    with numpyro.plate('J', J):\n",
    "        with numpyro.handlers.reparam(config={'theta': TransformReparam()}):\n",
    "            theta = numpyro.sample(\n",
    "                'theta',\n",
    "                dist.TransformedDistribution(dist.Normal(0., 1.),\n",
    "                                             dist.transforms.AffineTransform(mu, tau)))\n",
    "        numpyro.sample('obs', dist.Normal(theta, sigma), obs=y)\n",
    "\n",
    "nuts_kernel = NUTS(eight_schools_noncentered)\n",
    "mcmc = MCMC(nuts_kernel, num_warmup=500, num_samples=1000)\n",
    "rng_key = random.PRNGKey(0)\n",
    "mcmc.run(rng_key, J, sigma, y=y, extra_fields=('potential_energy',))\n",
    "mcmc.print_summary(exclude_deterministic=False)\n",
    "pe = mcmc.get_extra_fields()['potential_energy']\n",
    "print('Expected log joint density: {:.2f}'.format(np.mean(-pe)))"
   ]
  },
  {
   "cell_type": "markdown",
   "metadata": {},
   "source": [
    "Now, assume that we have a new school for which we have not observed any test scores, but we would like to generate predictions. `numpyro` provides a `Predictive` class for such a purpose. Note that in the absence of any observed data, we simply use the population-level parameters to generate predictions. The `Predictive` utility conditions the unobserved `mu` and `tau` sites to values drawn from the posterior distribution from our last MCMC run, and runs the model forward to generate predictions."
   ]
  },
  {
   "cell_type": "code",
   "execution_count": 7,
   "metadata": {},
   "outputs": [
    {
     "name": "stdout",
     "output_type": "stream",
     "text": [
      "4.268015\n"
     ]
    }
   ],
   "source": [
    "def new_school():\n",
    "    mu = numpyro.sample('mu', dist.Normal(0, 5))\n",
    "    tau = numpyro.sample('tau', dist.HalfCauchy(5))\n",
    "    return numpyro.sample('obs', dist.Normal(mu, tau))\n",
    "\n",
    "predictive = Predictive(new_school, mcmc.get_samples())\n",
    "samples_predictive = predictive(random.PRNGKey(1))\n",
    "print(np.mean(samples_predictive['obs']))"
   ]
  }
 ],
 "metadata": {
  "kernelspec": {
   "display_name": "Python 3",
   "language": "python",
   "name": "python3"
  },
  "language_info": {
   "codemirror_mode": {
    "name": "ipython",
    "version": 3
   },
   "file_extension": ".py",
   "mimetype": "text/x-python",
   "name": "python",
   "nbconvert_exporter": "python",
   "pygments_lexer": "ipython3",
   "version": "3.8.3"
  }
 },
 "nbformat": 4,
 "nbformat_minor": 4
}
