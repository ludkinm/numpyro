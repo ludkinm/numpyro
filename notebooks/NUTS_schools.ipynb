{
 "cells": [
  {
   "cell_type": "markdown",
   "metadata": {},
   "source": [
    "# 8 schools data"
   ]
  },
  {
   "cell_type": "code",
   "execution_count": 1,
   "metadata": {},
   "outputs": [],
   "source": [
    "from numpyro.infer import Predictive\n",
    "from numpyro.infer.reparam import TransformReparam, LocScaleReparam\n",
    "from jax import random\n",
    "from numpyro.infer import MCMC, HMC\n",
    "import numpyro.distributions as dist\n",
    "import numpyro\n",
    "import numpy as np"
   ]
  },
  {
   "cell_type": "markdown",
   "metadata": {},
   "source": [
    "Let us explore NumPyro using a simple example. We will use the eight schools example from Gelman et al., Bayesian Data Analysis: Sec. 5.5, 2003, which studies the effect of coaching on SAT performance in eight schools.\n",
    "\n",
    "The data is given by:"
   ]
  },
  {
   "cell_type": "code",
   "execution_count": 2,
   "metadata": {},
   "outputs": [],
   "source": [
    "J = 8\n",
    "y = np.array([28.0, 8.0, -3.0, 7.0, -1.0, 1.0, 18.0, 12.0])\n",
    "sigma = np.array([15.0, 10.0, 16.0, 11.0, 9.0, 11.0, 10.0, 18.0])"
   ]
  },
  {
   "cell_type": "markdown",
   "metadata": {},
   "source": [
    "where `y` are the treatment effects and `sigma` the standard error. \n",
    "\n",
    "We build a hierarchical model for the study where we assume that the group-level parameters `theta` for each school are sampled from a Normal distribution with unknown mean `mu` and standard deviation `tau`, while the observed data are in turn generated from a Normal distribution with mean and standard deviation given by `theta` (true effect) and `sigma`, respectively. \n",
    "This allows us to estimate the population-level parameters `mu` and `tau` by pooling from all the observations, while still allowing for individual variation amongst the schools using the group-level `theta` parameters.\n",
    "This is written in `numpyro` using:"
   ]
  },
  {
   "cell_type": "code",
   "execution_count": 3,
   "metadata": {},
   "outputs": [],
   "source": [
    "def eight_schools(J, sigma, y=None):\n",
    "    mu = numpyro.sample('mu', dist.Normal(0, 5))\n",
    "    tau = numpyro.sample('tau', dist.HalfCauchy(5))\n",
    "    with numpyro.plate('J', J):\n",
    "        theta = numpyro.sample('theta', dist.Normal(mu, tau))\n",
    "        numpyro.sample('obs', dist.Normal(theta, sigma), obs=y)"
   ]
  },
  {
   "cell_type": "markdown",
   "metadata": {},
   "source": [
    "Let us infer the values of the unknown parameters in our model by running MCMC using the No-U-Turn Sampler (NUTS). Note the usage of the extra_fields argument in MCMC.run. By default, we only collect samples from the target (posterior) distribution when we run inference using MCMC. However, collecting additional fields like potential energy or the acceptance probability of a sample can be easily achieved by using the extra_fields argument. For a list of possible fields that can be collected, see the `HMCState` object. In this example, we will additionally collect the `potential_energy` for each sample."
   ]
  },
  {
   "cell_type": "code",
   "execution_count": 4,
   "metadata": {},
   "outputs": [
    {
     "name": "stdout",
     "output_type": "stream",
     "text": [
      "rng_key.ndim == 1, setting init_state to hmc_init_fn()\n",
      "hmc_init_fn in HMC.init()\n",
      "Init kernel in hmc()\n"
     ]
    },
    {
     "name": "stderr",
     "output_type": "stream",
     "text": [
      "  0%|          | 0/1500 [00:00<?, ?it/s]"
     ]
    },
    {
     "name": "stdout",
     "output_type": "stream",
     "text": [
      "hmc_state=HMCState(i=0, z={'mu': DeviceArray(1.5965929, dtype=float32), 'tau': DeviceArray(1.9340096, dtype=float32), 'theta': DeviceArray([-1.3776793 ,  0.82720995,  0.3365407 ,  1.180201  ,\n",
      "              1.919496  , -1.1188812 , -0.68791294,  1.6057692 ],            dtype=float32)}, z_grad={'mu': DeviceArray(0.2747002, dtype=float32), 'tau': DeviceArray(7.814204, dtype=float32), 'theta': DeviceArray([-0.19272894, -0.0878078 , -0.01330139, -0.05679999,\n",
      "              0.04279175, -0.07426409, -0.23462468, -0.03188918],            dtype=float32)}, potential_energy=DeviceArray(58.490784, dtype=float32), energy=DeviceArray(6.9548197, dtype=float32), num_steps=0, accept_prob=0.0, mean_accept_prob=0.0, diverging=False, adapt_state=HMCAdaptState(step_size=array(1., dtype=float32), inverse_mass_matrix=DeviceArray([1., 1., 1., 1., 1., 1., 1., 1., 1., 1.], dtype=float32), mass_matrix_sqrt=DeviceArray([1., 1., 1., 1., 1., 1., 1., 1., 1., 1.], dtype=float32), ss_state=(0.0, 0.0, 0.0, 0, DeviceArray(2.3025851, dtype=float32)), mm_state=(DeviceArray([0., 0., 0., 0., 0., 0., 0., 0., 0., 0.], dtype=float32), DeviceArray([0., 0., 0., 0., 0., 0., 0., 0., 0., 0.], dtype=float32), 0), window_idx=0, rng_key=array([3121850452, 3194139882], dtype=uint32)), rng_key=array([3115665281, 2516762499], dtype=uint32))\n"
     ]
    },
    {
     "name": "stderr",
     "output_type": "stream",
     "text": [
      "sample: 100%|██████████| 1500/1500 [00:02<00:00, 622.73it/s, 38 steps of size 1.65e-01. acc. prob=0.79]\n"
     ]
    },
    {
     "name": "stdout",
     "output_type": "stream",
     "text": [
      "\n",
      "                mean       std    median      5.0%     95.0%     n_eff     r_hat\n",
      "        mu      4.31      3.13      4.22     -0.89      8.82   1495.10      1.00\n",
      "       tau      4.50      3.54      3.54      0.97      8.88     79.52      1.00\n",
      "  theta[0]      6.65      5.72      6.04     -2.75     15.09    494.97      1.00\n",
      "  theta[1]      4.80      4.90      4.71     -4.33     11.91    724.20      1.00\n",
      "  theta[2]      3.52      5.22      3.90     -4.23     12.86    531.26      1.00\n",
      "  theta[3]      4.72      4.81      4.95     -2.78     12.60    666.05      1.00\n",
      "  theta[4]      3.45      4.64      3.62     -4.34     10.90    411.74      1.00\n",
      "  theta[5]      3.63      4.96      3.79     -3.99     11.52    595.29      1.00\n",
      "  theta[6]      6.77      5.20      6.49     -2.13     14.62    354.23      1.00\n",
      "  theta[7]      4.95      5.71      4.82     -4.41     13.42    634.33      1.00\n",
      "\n",
      "Number of divergences: 14\n"
     ]
    }
   ],
   "source": [
    "kernel = HMC(eight_schools)\n",
    "mcmc = MCMC(kernel, num_warmup=500, num_samples=1000)\n",
    "rng_key = random.PRNGKey(0)\n",
    "mcmc.run(rng_key, J, sigma, y=y, extra_fields=('potential_energy',))\n",
    "mcmc.print_summary()"
   ]
  },
  {
   "cell_type": "code",
   "execution_count": 6,
   "metadata": {},
   "outputs": [
    {
     "name": "stdout",
     "output_type": "stream",
     "text": [
      "Expected log joint density: -55.26\n"
     ]
    }
   ],
   "source": [
    "pe = mcmc.get_extra_fields()['potential_energy']\n",
    "print('Expected log joint density: {:.2f}'.format(np.mean(-pe)))"
   ]
  },
  {
   "cell_type": "markdown",
   "metadata": {},
   "source": [
    "The values above 1 for the split Gelman Rubin diagnostic `r_hat` indicates that the chain has not fully converged. The low value for the effective sample size `n_eff`, particularly for `tau`, and the number of divergent transitions looks problematic. \n",
    "Fortunately, this is a common pathology that can be rectified by using a non-centered paramaterization for `tau` in our model. This is straightforward to do in `numpyro` by using a `TransformedDistribution` instance together with a \"reparameterization effect handler\". Let us rewrite the same model but instead of sampling `theta` from a Normal(`mu`, `tau`), we will instead sample it from a base Normal(0, 1) distribution that is transformed using an `AffineTransform`. \n",
    "Note that by doing so, `nunmpyro` runs HMC by generating samples `theta_base` for the base Normal(0, 1) distribution instead. We see that the resulting chain does not suffer from the same pathology — the Gelman Rubin diagnostic is 1 for all the parameters and the effective sample size looks quite good!"
   ]
  },
  {
   "cell_type": "code",
   "execution_count": 7,
   "metadata": {},
   "outputs": [
    {
     "name": "stderr",
     "output_type": "stream",
     "text": [
      "sample: 100%|██████████| 1500/1500 [00:04<00:00, 301.80it/s, 15 steps of size 3.87e-01. acc. prob=0.93]\n"
     ]
    },
    {
     "name": "stdout",
     "output_type": "stream",
     "text": [
      "\n",
      "                   mean       std    median      5.0%     95.0%     n_eff     r_hat\n",
      "           mu      4.14      3.49      4.21     -1.43     10.12    659.31      1.00\n",
      "          tau      3.85      3.19      2.98      0.00      8.34    558.82      1.00\n",
      "     theta[0]      6.49      5.58      5.98     -1.49     15.95    848.21      1.00\n",
      "     theta[1]      4.80      4.93      4.73     -3.35     12.51   1203.26      1.00\n",
      "     theta[2]      3.68      5.46      3.94     -5.38     11.61    873.89      1.00\n",
      "     theta[3]      4.70      4.64      4.74     -1.86     12.49   1187.36      1.00\n",
      "     theta[4]      3.30      4.86      3.72     -4.00     11.15    719.72      1.00\n",
      "     theta[5]      3.75      4.90      3.90     -3.37     12.29    619.41      1.00\n",
      "     theta[6]      6.48      5.28      5.98     -1.60     14.33   1009.13      1.00\n",
      "     theta[7]      5.02      5.47      4.82     -3.39     13.61    990.37      1.00\n",
      "theta_base[0]      0.41      0.99      0.44     -1.12      2.08    714.07      1.00\n",
      "theta_base[1]      0.14      0.94      0.19     -1.46      1.56    940.67      1.00\n",
      "theta_base[2]     -0.07      0.98     -0.09     -1.67      1.46   1215.75      1.00\n",
      "theta_base[3]      0.13      0.87      0.14     -1.21      1.59   1150.90      1.00\n",
      "theta_base[4]     -0.13      0.92     -0.17     -1.55      1.47    866.19      1.00\n",
      "theta_base[5]     -0.11      0.93     -0.13     -1.76      1.33    939.17      1.00\n",
      "theta_base[6]      0.38      0.98      0.41     -1.10      2.09    814.02      1.00\n",
      "theta_base[7]      0.12      0.99      0.14     -1.38      1.80   1210.54      1.00\n",
      "\n",
      "Number of divergences: 0\n",
      "Expected log joint density: -46.10\n"
     ]
    }
   ],
   "source": [
    "def eight_schools_noncentered(J, sigma, y=None):\n",
    "    mu = numpyro.sample('mu', dist.Normal(0, 5))\n",
    "    tau = numpyro.sample('tau', dist.HalfCauchy(5))\n",
    "    with numpyro.plate('J', J):\n",
    "        with numpyro.handlers.reparam(config={'theta': TransformReparam()}):\n",
    "            theta = numpyro.sample(\n",
    "                'theta',\n",
    "                dist.TransformedDistribution(dist.Normal(0., 1.),\n",
    "                                             dist.transforms.AffineTransform(mu, tau)))\n",
    "        numpyro.sample('obs', dist.Normal(theta, sigma), obs=y)\n",
    "\n",
    "nuts_kernel = NUTS(eight_schools_noncentered)\n",
    "mcmc = MCMC(nuts_kernel, num_warmup=500, num_samples=1000)\n",
    "rng_key = random.PRNGKey(0)\n",
    "mcmc.run(rng_key, J, sigma, y=y, extra_fields=('potential_energy',))\n",
    "mcmc.print_summary(exclude_deterministic=False)\n",
    "pe = mcmc.get_extra_fields()['potential_energy']\n",
    "print('Expected log joint density: {:.2f}'.format(np.mean(-pe)))"
   ]
  },
  {
   "cell_type": "markdown",
   "metadata": {},
   "source": [
    "Now, assume that we have a new school for which we have not observed any test scores, but we would like to generate predictions. `numpyro` provides a `Predictive` class for such a purpose. Note that in the absence of any observed data, we simply use the population-level parameters to generate predictions. The `Predictive` utility conditions the unobserved `mu` and `tau` sites to values drawn from the posterior distribution from our last MCMC run, and runs the model forward to generate predictions."
   ]
  },
  {
   "cell_type": "code",
   "execution_count": 8,
   "metadata": {},
   "outputs": [
    {
     "name": "stdout",
     "output_type": "stream",
     "text": [
      "4.0959787\n"
     ]
    }
   ],
   "source": [
    "def new_school():\n",
    "    mu = numpyro.sample('mu', dist.Normal(0, 5))\n",
    "    tau = numpyro.sample('tau', dist.HalfCauchy(5))\n",
    "    return numpyro.sample('obs', dist.Normal(mu, tau))\n",
    "\n",
    "predictive = Predictive(new_school, mcmc.get_samples())\n",
    "samples_predictive = predictive(random.PRNGKey(1))\n",
    "print(np.mean(samples_predictive['obs']))"
   ]
  }
 ],
 "metadata": {
  "kernelspec": {
   "display_name": "Python 3",
   "language": "python",
   "name": "python3"
  },
  "language_info": {
   "codemirror_mode": {
    "name": "ipython",
    "version": 3
   },
   "file_extension": ".py",
   "mimetype": "text/x-python",
   "name": "python",
   "nbconvert_exporter": "python",
   "pygments_lexer": "ipython3",
   "version": "3.8.3"
  }
 },
 "nbformat": 4,
 "nbformat_minor": 4
}
